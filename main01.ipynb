{
 "cells": [
  {
   "cell_type": "code",
   "execution_count": 1,
   "id": "06dbb599-2144-49e4-afcd-bbc3a88ae611",
   "metadata": {
    "scrolled": true
   },
   "outputs": [
    {
     "data": {
      "text/plain": [
       "['arr_0', 'arr_1']"
      ]
     },
     "execution_count": 1,
     "metadata": {},
     "output_type": "execute_result"
    }
   ],
   "source": [
    "import numpy as np\n",
    "data = np.load('Wafer_Map_Datasets\\Wafer_Map_Datasets.npz')\n",
    "data.files"
   ]
  },
  {
   "cell_type": "code",
   "execution_count": 2,
   "id": "59836b07-a619-4161-8a3c-56a7907ddfdc",
   "metadata": {},
   "outputs": [
    {
     "data": {
      "text/plain": [
       "((38015, 1, 52, 52), (38015, 8))"
      ]
     },
     "execution_count": 2,
     "metadata": {},
     "output_type": "execute_result"
    }
   ],
   "source": [
    "data0 = data['arr_0']\n",
    "data1 = data['arr_1']\n",
    "data0 = data0[:,np.newaxis,]\n",
    "data0.shape, data1.shape"
   ]
  },
  {
   "cell_type": "code",
   "execution_count": 3,
   "id": "467a9a81-b2f2-436b-9828-9c6626e22a52",
   "metadata": {},
   "outputs": [
    {
     "data": {
      "text/plain": [
       "((30412, 1, 52, 52), (30412, 8), (7603, 1, 52, 52), (7603, 8))"
      ]
     },
     "execution_count": 3,
     "metadata": {},
     "output_type": "execute_result"
    }
   ],
   "source": [
    "import random\n",
    "datalen = data0.shape[0]\n",
    "idx = list(range(datalen))\n",
    "train_idx = random.sample(idx, int(0.8*datalen))\n",
    "val_idx = list(set(idx)-set(train_idx))\n",
    "x_train, y_train = data0[train_idx], data1[train_idx]\n",
    "x_val, y_val = data0[val_idx], data1[val_idx]\n",
    "x_train.shape, y_train.shape, x_val.shape, y_val.shape"
   ]
  },
  {
   "cell_type": "code",
   "execution_count": 4,
   "id": "386124ae-4dfc-4ca8-8530-26b5d3dd0792",
   "metadata": {},
   "outputs": [],
   "source": [
    "import torch.nn as nn\n",
    "import torch\n",
    "from torch.nn import functional as F\n",
    "\n",
    "class ResidualBlock(nn.Module):\n",
    "    def __init__(self, in_ch, out_ch, stride=1, shortcut=None):\n",
    "        super(ResidualBlock,self).__init__()\n",
    "        self.left = nn.Sequential(\n",
    "            nn.Conv2d(in_ch,out_ch,3,stride,padding=1,bias=False),\n",
    "            nn.BatchNorm2d(out_ch),\n",
    "            nn.ReLU(inplace = True),#inplace = True原地操作\n",
    "            nn.Conv2d(out_ch,out_ch,3,stride=1,padding=1,bias=False),\n",
    "            nn.BatchNorm2d(out_ch)\n",
    "            )\n",
    "        self.right = shortcut\n",
    "        \n",
    "    def forward(self,x):\n",
    "        out = self.left(x)\n",
    "        residual = x if self.right is None else self.right(x)\n",
    "        out += residual\n",
    "        return F.relu(out)\n",
    "        \n",
    "class ResNet18(nn.Module):\n",
    "    def __init__(self, num_classes=1):\n",
    "        super(ResNet18,self).__init__()\n",
    "        self.pre = nn.Sequential(\n",
    "                nn.Conv2d(1,64,7,stride=2,padding=3,bias=False),# (224+2*p-)/2(向下取整)+1，size减半->112\n",
    "                nn.BatchNorm2d(64),#112x112x64\n",
    "                nn.ReLU(inplace = True),\n",
    "                nn.MaxPool2d(3,2,1)#kernel_size=3, stride=2, padding=1\n",
    "                )#56x56x64\n",
    "        \n",
    "        self.layer1 = self.make_layer(64,64,2)#56x56x64,layer1层输入输出一样，make_layer里，应该不用对shortcut进行处理，但是为了统一操作。。。\n",
    "        self.layer2 = self.make_layer(64,128,2,stride=2)#第一个stride=2,剩下3个stride=1;28x28x128\n",
    "        self.layer3 = self.make_layer(128,256,2,stride=2)#14x14x256\n",
    "        self.layer4 = self.make_layer(256,512,2,stride=2)#7x7x512\n",
    "        #分类用的全连接\n",
    "        self.fc = nn.Linear(512,num_classes)\n",
    "        \n",
    "        self.dropout = nn.Dropout(p=0.5)  # dropout训练\n",
    "        \n",
    "    def make_layer(self,in_ch,out_ch,block_num,stride=1):\n",
    "        #当维度增加时，对shortcut进行option B的处理\n",
    "        shortcut = nn.Sequential(#首个ResidualBlock需要进行option B处理\n",
    "                nn.Conv2d(in_ch,out_ch,1,stride,bias=False),#1x1卷积用于增加维度；stride=2用于减半size；为简化不考虑偏差\n",
    "                nn.BatchNorm2d(out_ch)\n",
    "                )\n",
    "        layers = []\n",
    "        layers.append(ResidualBlock(in_ch,out_ch,stride,shortcut))\n",
    "        \n",
    "        for i in range(1,block_num):\n",
    "            layers.append(ResidualBlock(out_ch,out_ch))#后面的几个ResidualBlock,shortcut直接相加\n",
    "        return nn.Sequential(*layers)\n",
    "        \n",
    "    def forward(self,x):  \n",
    "        x = self.pre(x)   \n",
    "        x = self.layer1(x)\n",
    "        x = self.layer2(x) \n",
    "        x = self.layer3(x) \n",
    "        x = self.layer4(x)\n",
    "        x = F.avg_pool2d(x,2)\n",
    "        x = nn.Flatten()(x)\n",
    "        x = self.dropout(x)\n",
    "        x = self.fc(x) \n",
    "        return x\n"
   ]
  },
  {
   "cell_type": "code",
   "execution_count": 5,
   "id": "b8715c07-fbf3-475b-9ccc-d46d955f9f72",
   "metadata": {},
   "outputs": [],
   "source": [
    "from torch.nn import BCELoss\n",
    "class SigmoidBCELoss(BCELoss):\n",
    "    def __init__(self):\n",
    "        super(SigmoidBCELoss, self).__init__()\n",
    "\n",
    "    def forward(self, outputs, y):\n",
    "        sigmoid = torch.nn.Sigmoid()\n",
    "        bce = torch.nn.BCELoss()\n",
    "        loss = bce(sigmoid(outputs), y)\n",
    "        return loss"
   ]
  },
  {
   "cell_type": "code",
   "execution_count": 6,
   "id": "9cebb643",
   "metadata": {},
   "outputs": [
    {
     "name": "stdout",
     "output_type": "stream",
     "text": [
      "ResNet18(\n",
      "  (pre): Sequential(\n",
      "    (0): Conv2d(1, 64, kernel_size=(7, 7), stride=(2, 2), padding=(3, 3), bias=False)\n",
      "    (1): BatchNorm2d(64, eps=1e-05, momentum=0.1, affine=True, track_running_stats=True)\n",
      "    (2): ReLU(inplace=True)\n",
      "    (3): MaxPool2d(kernel_size=3, stride=2, padding=1, dilation=1, ceil_mode=False)\n",
      "  )\n",
      "  (layer1): Sequential(\n",
      "    (0): ResidualBlock(\n",
      "      (left): Sequential(\n",
      "        (0): Conv2d(64, 64, kernel_size=(3, 3), stride=(1, 1), padding=(1, 1), bias=False)\n",
      "        (1): BatchNorm2d(64, eps=1e-05, momentum=0.1, affine=True, track_running_stats=True)\n",
      "        (2): ReLU(inplace=True)\n",
      "        (3): Conv2d(64, 64, kernel_size=(3, 3), stride=(1, 1), padding=(1, 1), bias=False)\n",
      "        (4): BatchNorm2d(64, eps=1e-05, momentum=0.1, affine=True, track_running_stats=True)\n",
      "      )\n",
      "      (right): Sequential(\n",
      "        (0): Conv2d(64, 64, kernel_size=(1, 1), stride=(1, 1), bias=False)\n",
      "        (1): BatchNorm2d(64, eps=1e-05, momentum=0.1, affine=True, track_running_stats=True)\n",
      "      )\n",
      "    )\n",
      "    (1): ResidualBlock(\n",
      "      (left): Sequential(\n",
      "        (0): Conv2d(64, 64, kernel_size=(3, 3), stride=(1, 1), padding=(1, 1), bias=False)\n",
      "        (1): BatchNorm2d(64, eps=1e-05, momentum=0.1, affine=True, track_running_stats=True)\n",
      "        (2): ReLU(inplace=True)\n",
      "        (3): Conv2d(64, 64, kernel_size=(3, 3), stride=(1, 1), padding=(1, 1), bias=False)\n",
      "        (4): BatchNorm2d(64, eps=1e-05, momentum=0.1, affine=True, track_running_stats=True)\n",
      "      )\n",
      "    )\n",
      "  )\n",
      "  (layer2): Sequential(\n",
      "    (0): ResidualBlock(\n",
      "      (left): Sequential(\n",
      "        (0): Conv2d(64, 128, kernel_size=(3, 3), stride=(2, 2), padding=(1, 1), bias=False)\n",
      "        (1): BatchNorm2d(128, eps=1e-05, momentum=0.1, affine=True, track_running_stats=True)\n",
      "        (2): ReLU(inplace=True)\n",
      "        (3): Conv2d(128, 128, kernel_size=(3, 3), stride=(1, 1), padding=(1, 1), bias=False)\n",
      "        (4): BatchNorm2d(128, eps=1e-05, momentum=0.1, affine=True, track_running_stats=True)\n",
      "      )\n",
      "      (right): Sequential(\n",
      "        (0): Conv2d(64, 128, kernel_size=(1, 1), stride=(2, 2), bias=False)\n",
      "        (1): BatchNorm2d(128, eps=1e-05, momentum=0.1, affine=True, track_running_stats=True)\n",
      "      )\n",
      "    )\n",
      "    (1): ResidualBlock(\n",
      "      (left): Sequential(\n",
      "        (0): Conv2d(128, 128, kernel_size=(3, 3), stride=(1, 1), padding=(1, 1), bias=False)\n",
      "        (1): BatchNorm2d(128, eps=1e-05, momentum=0.1, affine=True, track_running_stats=True)\n",
      "        (2): ReLU(inplace=True)\n",
      "        (3): Conv2d(128, 128, kernel_size=(3, 3), stride=(1, 1), padding=(1, 1), bias=False)\n",
      "        (4): BatchNorm2d(128, eps=1e-05, momentum=0.1, affine=True, track_running_stats=True)\n",
      "      )\n",
      "    )\n",
      "  )\n",
      "  (layer3): Sequential(\n",
      "    (0): ResidualBlock(\n",
      "      (left): Sequential(\n",
      "        (0): Conv2d(128, 256, kernel_size=(3, 3), stride=(2, 2), padding=(1, 1), bias=False)\n",
      "        (1): BatchNorm2d(256, eps=1e-05, momentum=0.1, affine=True, track_running_stats=True)\n",
      "        (2): ReLU(inplace=True)\n",
      "        (3): Conv2d(256, 256, kernel_size=(3, 3), stride=(1, 1), padding=(1, 1), bias=False)\n",
      "        (4): BatchNorm2d(256, eps=1e-05, momentum=0.1, affine=True, track_running_stats=True)\n",
      "      )\n",
      "      (right): Sequential(\n",
      "        (0): Conv2d(128, 256, kernel_size=(1, 1), stride=(2, 2), bias=False)\n",
      "        (1): BatchNorm2d(256, eps=1e-05, momentum=0.1, affine=True, track_running_stats=True)\n",
      "      )\n",
      "    )\n",
      "    (1): ResidualBlock(\n",
      "      (left): Sequential(\n",
      "        (0): Conv2d(256, 256, kernel_size=(3, 3), stride=(1, 1), padding=(1, 1), bias=False)\n",
      "        (1): BatchNorm2d(256, eps=1e-05, momentum=0.1, affine=True, track_running_stats=True)\n",
      "        (2): ReLU(inplace=True)\n",
      "        (3): Conv2d(256, 256, kernel_size=(3, 3), stride=(1, 1), padding=(1, 1), bias=False)\n",
      "        (4): BatchNorm2d(256, eps=1e-05, momentum=0.1, affine=True, track_running_stats=True)\n",
      "      )\n",
      "    )\n",
      "  )\n",
      "  (layer4): Sequential(\n",
      "    (0): ResidualBlock(\n",
      "      (left): Sequential(\n",
      "        (0): Conv2d(256, 512, kernel_size=(3, 3), stride=(2, 2), padding=(1, 1), bias=False)\n",
      "        (1): BatchNorm2d(512, eps=1e-05, momentum=0.1, affine=True, track_running_stats=True)\n",
      "        (2): ReLU(inplace=True)\n",
      "        (3): Conv2d(512, 512, kernel_size=(3, 3), stride=(1, 1), padding=(1, 1), bias=False)\n",
      "        (4): BatchNorm2d(512, eps=1e-05, momentum=0.1, affine=True, track_running_stats=True)\n",
      "      )\n",
      "      (right): Sequential(\n",
      "        (0): Conv2d(256, 512, kernel_size=(1, 1), stride=(2, 2), bias=False)\n",
      "        (1): BatchNorm2d(512, eps=1e-05, momentum=0.1, affine=True, track_running_stats=True)\n",
      "      )\n",
      "    )\n",
      "    (1): ResidualBlock(\n",
      "      (left): Sequential(\n",
      "        (0): Conv2d(512, 512, kernel_size=(3, 3), stride=(1, 1), padding=(1, 1), bias=False)\n",
      "        (1): BatchNorm2d(512, eps=1e-05, momentum=0.1, affine=True, track_running_stats=True)\n",
      "        (2): ReLU(inplace=True)\n",
      "        (3): Conv2d(512, 512, kernel_size=(3, 3), stride=(1, 1), padding=(1, 1), bias=False)\n",
      "        (4): BatchNorm2d(512, eps=1e-05, momentum=0.1, affine=True, track_running_stats=True)\n",
      "      )\n",
      "    )\n",
      "  )\n",
      "  (fc): Linear(in_features=512, out_features=8, bias=True)\n",
      "  (dropout): Dropout(p=0.5, inplace=False)\n",
      ")\n"
     ]
    }
   ],
   "source": [
    "data = torch.rand([1,1,52,52])\n",
    "model = ResNet18(num_classes=8)\n",
    "print(model)\n",
    "# out = model(data)"
   ]
  },
  {
   "cell_type": "code",
   "execution_count": 16,
   "id": "07311b6c-f4ac-433b-8a64-3d202a5e7962",
   "metadata": {},
   "outputs": [
    {
     "name": "stdout",
     "output_type": "stream",
     "text": [
      "start training...\n",
      "[TRAIN] Epoch: 0/10 || average_loss: 0.117 || train_acc: 0.95\n",
      "[TEST] Epoch: 0/10 || average_loss: 0.042 || test_acc: 0.99\n",
      "[TRAIN] Epoch: 1/10 || average_loss: 0.042 || train_acc: 0.99\n",
      "[TEST] Epoch: 1/10 || average_loss: 0.055 || test_acc: 0.98\n",
      "[TRAIN] Epoch: 2/10 || average_loss: 0.030 || train_acc: 0.99\n",
      "[TEST] Epoch: 2/10 || average_loss: 0.027 || test_acc: 0.99\n",
      "[TRAIN] Epoch: 3/10 || average_loss: 0.023 || train_acc: 0.99\n",
      "[TEST] Epoch: 3/10 || average_loss: 0.032 || test_acc: 0.99\n",
      "[TRAIN] Epoch: 4/10 || average_loss: 0.021 || train_acc: 0.99\n",
      "[TEST] Epoch: 4/10 || average_loss: 0.061 || test_acc: 0.98\n",
      "[TRAIN] Epoch: 5/10 || average_loss: 0.016 || train_acc: 1.00\n",
      "[TEST] Epoch: 5/10 || average_loss: 0.027 || test_acc: 0.99\n",
      "[TRAIN] Epoch: 6/10 || average_loss: 0.015 || train_acc: 1.00\n",
      "[TEST] Epoch: 6/10 || average_loss: 0.032 || test_acc: 0.99\n",
      "[TRAIN] Epoch: 7/10 || average_loss: 0.013 || train_acc: 1.00\n",
      "[TEST] Epoch: 7/10 || average_loss: 0.027 || test_acc: 0.99\n",
      "[TRAIN] Epoch: 8/10 || average_loss: 0.010 || train_acc: 1.00\n",
      "[TEST] Epoch: 8/10 || average_loss: 0.023 || test_acc: 0.99\n",
      "[TRAIN] Epoch: 9/10 || average_loss: 0.008 || train_acc: 1.00\n",
      "[TEST] Epoch: 9/10 || average_loss: 0.023 || test_acc: 0.99\n"
     ]
    }
   ],
   "source": [
    "from torch.utils.data import DataLoader,TensorDataset\n",
    "from torch.optim import Adam\n",
    "from torchvision import transforms\n",
    "from torch import nn\n",
    "import torch\n",
    "import numpy as np\n",
    "import os\n",
    "import json\n",
    "# from tqdm import tqdm\n",
    "\n",
    "batchsize = 64\n",
    "epochs = 10\n",
    "\n",
    "train_loader = DataLoader(TensorDataset(torch.tensor(x_train).float(),torch.tensor(y_train).float()), batchsize, True, drop_last=True, pin_memory=True)\n",
    "test_loader = DataLoader(TensorDataset(torch.tensor(x_val).float(),torch.tensor(y_val).float()), batchsize, True, drop_last=True, pin_memory=True)\n",
    "train_num, test_num = len(train_loader), len(test_loader)\n",
    "\n",
    "model = ResNet18(num_classes=8)\n",
    "if torch.cuda.is_available():\n",
    "    model = model.cuda()\n",
    "optimizer = Adam(model.parameters(), lr=3e-4)\n",
    "loss_func = SigmoidBCELoss()\n",
    "print('start training...')\n",
    "best_acc = 0.\n",
    "trainloss, trainacc = [], []\n",
    "testloss, testacc = [], []\n",
    "pbar = (range(epochs))\n",
    "for epoch in pbar:\n",
    "    model.train()\n",
    "    losses, accs = [], []\n",
    "    for i, (batch_images, batch_labels) in enumerate(train_loader):\n",
    "        if torch.cuda.is_available():\n",
    "            batch_images, batch_labels = batch_images.cuda(),batch_labels.cuda()\n",
    "        out = model(batch_images)\n",
    "        \n",
    "        batch_labels = batch_labels.squeeze()\n",
    "        loss = loss_func(out, batch_labels)\n",
    "\n",
    "        # prediction = torch.argmax(out,dim=1\n",
    "        out[out>0.5]=1\n",
    "        out[out<=0.5]=0\n",
    "\n",
    "        train_correct = (out == batch_labels).sum() / 8\n",
    "        ##这里得到的train_correct是一个longtensor型，需要转换为float\n",
    "        train_acc = (train_correct.float()) / batchsize\n",
    "\n",
    "        optimizer.zero_grad() #清空梯度信息，否则在每次进行反向传播时都会累加\n",
    "        loss.backward()  #loss反向传播\n",
    "        optimizer.step()  ##梯度更新\n",
    "\n",
    "        losses.append(loss.item())\n",
    "        accs.append(train_acc.item())\n",
    "#         if i%20 == 0:\n",
    "#             pbar.set_description(\"Epoch: %d/%d || step: %d/%d average_loss: %.3f || train_acc: %.2f\"\n",
    "#               %(epoch, epochs, i, train_num, loss.item(), train_acc.item()))\n",
    "    trainloss.append(np.mean(np.array(losses)))\n",
    "    trainacc.append(np.mean(np.array(accs)))\n",
    "    print(\"[TRAIN] Epoch: %d/%d || average_loss: %.3f || train_acc: %.2f\"\n",
    "          %(epoch, epochs, np.mean(np.array(losses)), np.mean(np.array(accs))))\n",
    "    \n",
    "    model.eval()\n",
    "    losses, accs = [], []\n",
    "    for i, (batch_images, batch_labels) in enumerate(test_loader):\n",
    "        if torch.cuda.is_available():\n",
    "            batch_images, batch_labels = batch_images.cuda(),batch_labels.cuda()\n",
    "        with torch.no_grad():\n",
    "            out = model(batch_images)\n",
    "        \n",
    "        batch_labels = batch_labels.squeeze()\n",
    "        loss = loss_func(out, batch_labels)\n",
    "\n",
    "        out[out>0.5]=1\n",
    "        out[out<=0.5]=0\n",
    "\n",
    "        test_correct = (out == batch_labels).sum() / 8\n",
    "        ##这里得到的train_correct是一个longtensor型，需要转换为float\n",
    "        test_acc = (test_correct.float()) / batchsize\n",
    "\n",
    "        \n",
    "        losses.append(loss.item())\n",
    "        accs.append(test_acc.item())\n",
    "    testloss.append(np.mean(np.array(losses)))\n",
    "    testacc.append(np.mean(np.array(accs)))\n",
    "    print(\"[TEST] Epoch: %d/%d || average_loss: %.3f || test_acc: %.2f\"\n",
    "          %(epoch, epochs, np.mean(np.array(losses)), np.mean(np.array(accs))))\n",
    "##每10epoch保存一次模型\n",
    "    if np.mean(np.array(accs)) > best_acc:\n",
    "        best_acc = np.mean(np.array(accs))\n",
    "        torch.save(model.state_dict(), 'res18.pth')"
   ]
  },
  {
   "cell_type": "code",
   "execution_count": 17,
   "id": "c43da64e",
   "metadata": {},
   "outputs": [
    {
     "name": "stdout",
     "output_type": "stream",
     "text": [
      "True\n"
     ]
    }
   ],
   "source": [
    "import  torch\n",
    "print(torch.cuda.is_available())\n"
   ]
  },
  {
   "cell_type": "code",
   "execution_count": 18,
   "id": "267ac7b5-f628-49bb-91da-f3247354659f",
   "metadata": {},
   "outputs": [],
   "source": [
    "model.eval()\n",
    "output, gts = [[],[],[],[],[],[],[],[]], [[],[],[],[],[],[],[],[]]\n",
    "for i, (batch_images, batch_labels) in enumerate(test_loader):\n",
    "    if torch.cuda.is_available():\n",
    "        batch_images, batch_labels = batch_images.cuda(),batch_labels.cuda()\n",
    "    with torch.no_grad():\n",
    "        out = model(batch_images)\n",
    "\n",
    "    batch_labels = batch_labels.squeeze()\n",
    "    loss = loss_func(out, batch_labels)\n",
    "\n",
    "    out[out>0.5]=1\n",
    "    out[out<=0.5]=0\n",
    "    \n",
    "    for i in range(8):\n",
    "        # print(i)\n",
    "        output[i].extend(out[:,i].cpu().data.numpy().tolist())\n",
    "        gts[i].extend(batch_labels[:,i].cpu().data.numpy().tolist())"
   ]
  },
  {
   "cell_type": "code",
   "execution_count": 14,
   "id": "7b152704-a437-40e7-8e28-29604aa09c71",
   "metadata": {},
   "outputs": [
    {
     "data": {
      "image/png": "[encoded data removed]",
      "text/plain": [
       "<Figure size 432x288 with 2 Axes>"
      ]
     },
     "metadata": {
      "needs_background": "light"
     },
     "output_type": "display_data"
    },
    {
     "data": {
      "image/png": "[encoded data removed]",
      "text/plain": [
       "<Figure size 432x288 with 2 Axes>"
      ]
     },
     "metadata": {
      "needs_background": "light"
     },
     "output_type": "display_data"
    },
    {
     "data": {
      "image/png": "[encoded data removed]",
      "text/plain": [
       "<Figure size 432x288 with 2 Axes>"
      ]
     },
     "metadata": {
      "needs_background": "light"
     },
     "output_type": "display_data"
    },
    {
     "data": {
      "image/png": "[encoded data removed]",
      "text/plain": [
       "<Figure size 432x288 with 2 Axes>"
      ]
     },
     "metadata": {
      "needs_background": "light"
     },
     "output_type": "display_data"
    },
    {
     "data": {
      "image/png": "[encoded data removed]",
      "text/plain": [
       "<Figure size 432x288 with 2 Axes>"
      ]
     },
     "metadata": {
      "needs_background": "light"
     },
     "output_type": "display_data"
    },
    {
     "data": {
      "image/png": "[encoded data removed]",
      "text/plain": [
       "<Figure size 432x288 with 2 Axes>"
      ]
     },
     "metadata": {
      "needs_background": "light"
     },
     "output_type": "display_data"
    },
    {
     "data": {
      "image/png": "[encoded data removed]",
      "text/plain": [
       "<Figure size 432x288 with 2 Axes>"
      ]
     },
     "metadata": {
      "needs_background": "light"
     },
     "output_type": "display_data"
    },
    {
     "data": {
      "image/png": "[encoded data removed]",
      "text/plain": [
       "<Figure size 432x288 with 2 Axes>"
      ]
     },
     "metadata": {
      "needs_background": "light"
     },
     "output_type": "display_data"
    }
   ],
   "source": [
    "import matplotlib.pyplot as plt\n",
    "from sklearn.metrics import confusion_matrix\n",
    "import seaborn as sns\n",
    "class_names = ['C', 'D', 'EL', 'ER', 'L', 'NF', 'S', 'R']\n",
    "cm = [[],[],[],[],[],[],[],[]]\n",
    "for i in range(8):\n",
    "    cm[i] = confusion_matrix(output[i], gts[i])\n",
    "    plt.figure()\n",
    "    sns.heatmap(cm[i],annot=True, fmt='d')\n",
    "    plt.title(f'class {class_names[i]}')"
   ]
  },
  {
   "cell_type": "code",
   "execution_count": 19,
   "id": "f5f31f81-624d-44ec-a5fc-1ed38742e65b",
   "metadata": {
    "scrolled": true
   },
   "outputs": [
    {
     "data": {
      "text/plain": [
       "Text(0.5, 1.0, 'acc')"
      ]
     },
     "execution_count": 19,
     "metadata": {},
     "output_type": "execute_result"
    },
    {
     "data": {
      "image/png": "[encoded data removed]",
      "text/plain": [
       "<Figure size 432x288 with 1 Axes>"
      ]
     },
     "metadata": {
      "needs_background": "light"
     },
     "output_type": "display_data"
    },
    {
     "data": {
      "image/png": "[encoded data removed]",
      "text/plain": [
       "<Figure size 432x288 with 1 Axes>"
      ]
     },
     "metadata": {
      "needs_background": "light"
     },
     "output_type": "display_data"
    }
   ],
   "source": [
    "import matplotlib.pyplot as plt\n",
    "plt.figure()\n",
    "plt.plot(trainloss)\n",
    "plt.plot(testloss)\n",
    "plt.title('loss')\n",
    "\n",
    "plt.figure()\n",
    "plt.plot(trainacc)\n",
    "plt.plot(testacc)\n",
    "plt.title('acc')"
   ]
  },
  {
   "cell_type": "code",
   "execution_count": null,
   "id": "f13ebd46-2b68-4095-8d53-a186668d4e98",
   "metadata": {},
   "outputs": [],
   "source": []
  }
 ],
 "metadata": {
  "kernelspec": {
   "display_name": "Python 3 (ipykernel)",
   "language": "python",
   "name": "python3"
  },
  "language_info": {
   "codemirror_mode": {
    "name": "ipython",
    "version": 3
   },
   "file_extension": ".py",
   "mimetype": "text/x-python",
   "name": "python",
   "nbconvert_exporter": "python",
   "pygments_lexer": "ipython3",
   "version": "3.10.4"
  }
 },
 "nbformat": 4,
 "nbformat_minor": 5
}
